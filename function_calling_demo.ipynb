{
 "cells": [
  {
   "cell_type": "code",
   "execution_count": null,
   "id": "324e94c7-f0b6-4e76-8c0d-133fd8e515ae",
   "metadata": {},
   "outputs": [],
   "source": [
    "from solve_it_main.solve_it_library import KnowledgeBase\n",
    "kb = KnowledgeBase('./solve_it_main', 'solve-it.json')"
   ]
  },
  {
   "cell_type": "code",
   "execution_count": null,
   "id": "39ad034f-5acf-4701-a637-20bf4a2e9816",
   "metadata": {},
   "outputs": [],
   "source": [
    "technique = kb.get_technique(\"T1002\")"
   ]
  },
  {
   "cell_type": "code",
   "execution_count": null,
   "id": "00c5f5ef-2b15-4261-b9c3-fe43ad479764",
   "metadata": {},
   "outputs": [],
   "source": [
    "print(technique)"
   ]
  },
  {
   "cell_type": "code",
   "execution_count": null,
   "id": "930a7b6b-d640-4449-ad24-1cacd8f4e83f",
   "metadata": {},
   "outputs": [],
   "source": [
    "print(type(technique))"
   ]
  },
  {
   "cell_type": "code",
   "execution_count": null,
   "id": "91ecdd9c-781a-4f92-8a21-7eb714363105",
   "metadata": {},
   "outputs": [],
   "source": [
    "print(technique['id'])\n",
    "print(technique['name'])"
   ]
  }
 ],
 "metadata": {
  "kernelspec": {
   "display_name": "Python 3 (ipykernel)",
   "language": "python",
   "name": "python3"
  },
  "language_info": {
   "codemirror_mode": {
    "name": "ipython",
    "version": 3
   },
   "file_extension": ".py",
   "mimetype": "text/x-python",
   "name": "python",
   "nbconvert_exporter": "python",
   "pygments_lexer": "ipython3",
   "version": "3.12.3"
  }
 },
 "nbformat": 4,
 "nbformat_minor": 5
}
