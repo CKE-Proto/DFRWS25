{
 "cells": [
  {
   "cell_type": "code",
   "execution_count": null,
   "id": "67f6873c-fdeb-414a-9a25-d8c26a2ad847",
   "metadata": {},
   "outputs": [],
   "source": [
    "import logging"
   ]
  },
  {
   "cell_type": "code",
   "execution_count": null,
   "id": "89266991-12b4-4070-bc4c-f784f6996a61",
   "metadata": {},
   "outputs": [],
   "source": [
    "logging.basicConfig(level=logging.INFO)"
   ]
  },
  {
   "cell_type": "code",
   "execution_count": null,
   "id": "225dfddf-b455-4ae3-9d27-23f7b10d03ab",
   "metadata": {},
   "outputs": [],
   "source": [
    "from solve_it_main.solve_it_library import KnowledgeBase\n",
    "kb = KnowledgeBase('solve_it_main')"
   ]
  }
 ],
 "metadata": {
  "kernelspec": {
   "display_name": "Python 3 (ipykernel)",
   "language": "python",
   "name": "python3"
  },
  "language_info": {
   "codemirror_mode": {
    "name": "ipython",
    "version": 3
   },
   "file_extension": ".py",
   "mimetype": "text/x-python",
   "name": "python",
   "nbconvert_exporter": "python",
   "pygments_lexer": "ipython3",
   "version": "3.12.3"
  }
 },
 "nbformat": 4,
 "nbformat_minor": 5
}
